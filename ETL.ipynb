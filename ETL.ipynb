{
 "cells": [
  {
   "cell_type": "code",
   "execution_count": 1,
   "metadata": {},
   "outputs": [],
   "source": [
    "import pyodbc as pyodbc\n",
    "import pandas as pd\n",
    "from utils import  FileReader,FreeTextFileReader,OLTPReader"
   ]
  },
  {
   "attachments": {},
   "cell_type": "markdown",
   "metadata": {},
   "source": [
    "# CSV FILE "
   ]
  },
  {
   "cell_type": "code",
   "execution_count": 2,
   "metadata": {},
   "outputs": [],
   "source": [
    "vendor_columns_mapping = {\n",
    "    \"Specialty\":\"SpecialtyName\",\n",
    "    \"Start Hour\":\"startHour\",\n",
    "    \"End Hour\":\"endHour\"\n",
    "}\n",
    "\n",
    "\n",
    "combined_columns_mapping = {\n",
    "   \n",
    "}\n"
   ]
  },
  {
   "cell_type": "code",
   "execution_count": 4,
   "metadata": {},
   "outputs": [
    {
     "name": "stdout",
     "output_type": "stream",
     "text": [
      "Transforming csv file into DataFrame\n",
      "Inserting data into database...\n",
      "Finished inserting data into database\n"
     ]
    }
   ],
   "source": [
    "status = None\n",
    "with FileReader('data/Provider1.csv',vendor_columns_mapping,combined_columns_mapping,seperator=',') as csvReader:\n",
    "    status = csvReader.status\n"
   ]
  },
  {
   "cell_type": "code",
   "execution_count": 5,
   "metadata": {},
   "outputs": [
    {
     "data": {
      "text/html": [
       "<div>\n",
       "<style scoped>\n",
       "    .dataframe tbody tr th:only-of-type {\n",
       "        vertical-align: middle;\n",
       "    }\n",
       "\n",
       "    .dataframe tbody tr th {\n",
       "        vertical-align: top;\n",
       "    }\n",
       "\n",
       "    .dataframe thead th {\n",
       "        text-align: right;\n",
       "    }\n",
       "</style>\n",
       "<table border=\"1\" class=\"dataframe\">\n",
       "  <thead>\n",
       "    <tr style=\"text-align: right;\">\n",
       "      <th></th>\n",
       "      <th>ProviderName</th>\n",
       "      <th>SpecialtyName</th>\n",
       "      <th>City</th>\n",
       "      <th>startHour</th>\n",
       "      <th>endHour</th>\n",
       "      <th>Cost</th>\n",
       "      <th>status</th>\n",
       "      <th>error</th>\n",
       "    </tr>\n",
       "  </thead>\n",
       "  <tbody>\n",
       "    <tr>\n",
       "      <th>0</th>\n",
       "      <td>mohammad</td>\n",
       "      <td>cardiologist</td>\n",
       "      <td>new york</td>\n",
       "      <td>9</td>\n",
       "      <td>12</td>\n",
       "      <td>100</td>\n",
       "      <td>True</td>\n",
       "      <td></td>\n",
       "    </tr>\n",
       "    <tr>\n",
       "      <th>1</th>\n",
       "      <td>ahmad</td>\n",
       "      <td>cardiologist</td>\n",
       "      <td>cairo</td>\n",
       "      <td>9</td>\n",
       "      <td>12</td>\n",
       "      <td>100</td>\n",
       "      <td>True</td>\n",
       "      <td></td>\n",
       "    </tr>\n",
       "  </tbody>\n",
       "</table>\n",
       "</div>"
      ],
      "text/plain": [
       "  ProviderName SpecialtyName      City  startHour  endHour  Cost  status error\n",
       "0     mohammad  cardiologist  new york          9       12   100    True      \n",
       "1        ahmad  cardiologist     cairo          9       12   100    True      "
      ]
     },
     "execution_count": 5,
     "metadata": {},
     "output_type": "execute_result"
    }
   ],
   "source": [
    "status"
   ]
  },
  {
   "attachments": {},
   "cell_type": "markdown",
   "metadata": {},
   "source": [
    "# TXT FILE"
   ]
  },
  {
   "cell_type": "code",
   "execution_count": 6,
   "metadata": {},
   "outputs": [],
   "source": [
    "vendor_columns_mapping = {\n",
    "    \"Specialty\":\"SpecialtyName\",\n",
    "    \"Start Hour\":\"startHour\",\n",
    "    \"End Hour\":\"endHour\"\n",
    "}\n",
    "\n",
    "\n",
    "combined_columns_mapping = {\n",
    "    \"ProviderName\" : [\"Fname\",\"Lname\"],\n",
    "}\n"
   ]
  },
  {
   "cell_type": "code",
   "execution_count": 7,
   "metadata": {},
   "outputs": [
    {
     "name": "stdout",
     "output_type": "stream",
     "text": [
      "Transforming csv file into DataFrame\n",
      "Inserting data into database...\n",
      "Finished inserting data into database\n"
     ]
    }
   ],
   "source": [
    "status = None\n",
    "with FileReader('data/Provider3.txt',vendor_columns_mapping,combined_columns_mapping,seperator='|') as csvReader:\n",
    "    status = csvReader.status\n"
   ]
  },
  {
   "cell_type": "code",
   "execution_count": 8,
   "metadata": {},
   "outputs": [
    {
     "data": {
      "text/html": [
       "<div>\n",
       "<style scoped>\n",
       "    .dataframe tbody tr th:only-of-type {\n",
       "        vertical-align: middle;\n",
       "    }\n",
       "\n",
       "    .dataframe tbody tr th {\n",
       "        vertical-align: top;\n",
       "    }\n",
       "\n",
       "    .dataframe thead th {\n",
       "        text-align: right;\n",
       "    }\n",
       "</style>\n",
       "<table border=\"1\" class=\"dataframe\">\n",
       "  <thead>\n",
       "    <tr style=\"text-align: right;\">\n",
       "      <th></th>\n",
       "      <th>SpecialtyName</th>\n",
       "      <th>City</th>\n",
       "      <th>startHour</th>\n",
       "      <th>endHour</th>\n",
       "      <th>Cost</th>\n",
       "      <th>ProviderName</th>\n",
       "      <th>status</th>\n",
       "      <th>error</th>\n",
       "    </tr>\n",
       "  </thead>\n",
       "  <tbody>\n",
       "    <tr>\n",
       "      <th>0</th>\n",
       "      <td>cardiologist</td>\n",
       "      <td>new york</td>\n",
       "      <td>9</td>\n",
       "      <td>12</td>\n",
       "      <td>100</td>\n",
       "      <td>mohammad nasser</td>\n",
       "      <td>True</td>\n",
       "      <td></td>\n",
       "    </tr>\n",
       "    <tr>\n",
       "      <th>1</th>\n",
       "      <td>cardiologist</td>\n",
       "      <td>new york</td>\n",
       "      <td>9</td>\n",
       "      <td>12</td>\n",
       "      <td>100</td>\n",
       "      <td>ahmad mahmoud</td>\n",
       "      <td>True</td>\n",
       "      <td></td>\n",
       "    </tr>\n",
       "  </tbody>\n",
       "</table>\n",
       "</div>"
      ],
      "text/plain": [
       "  SpecialtyName      City  startHour  endHour  Cost     ProviderName  status  \\\n",
       "0  cardiologist  new york          9       12   100  mohammad nasser    True   \n",
       "1  cardiologist  new york          9       12   100    ahmad mahmoud    True   \n",
       "\n",
       "  error  \n",
       "0        \n",
       "1        "
      ]
     },
     "execution_count": 8,
     "metadata": {},
     "output_type": "execute_result"
    }
   ],
   "source": [
    "status"
   ]
  },
  {
   "attachments": {},
   "cell_type": "markdown",
   "metadata": {},
   "source": [
    "# Free Text File Using Model to Predict"
   ]
  },
  {
   "cell_type": "code",
   "execution_count": 9,
   "metadata": {},
   "outputs": [
    {
     "name": "stdout",
     "output_type": "stream",
     "text": [
      "Inserting data into database...\n",
      "Error executing query: INSERT INTO PotatoDataMartv1.dbo.LocationDim (City) VALUES ('salem nbennett spring nfort lewi nglenvar nhang rock nkessler mill nmason cove')\n",
      "Error executing query: INSERT INTO PotatoDataMartv1.dbo.LocationDim (City) VALUES ('overland park nmerriam noverland nprairi villag nprairi vlg nshawne mission nshawne msn')\n",
      "Error executing query: INSERT INTO PotatoDataMartv1.dbo.LocationDim (City) VALUES ('bicentenni nbrigg nw hollywood nwest hollywood nlos angel')\n",
      "Error executing query: INSERT INTO PotatoDataMartv1.dbo.LocationDim (City) VALUES ('west harrison neast white plain nw harrison nwestchest counti airport nwhite plain')\n",
      "Error executing query: INSERT INTO PotatoDataMartv1.dbo.LocationDim (City) VALUES ('littleton nhghlnds ranch nhighland ranch nlone tree nlonetre')\n",
      "Finished inserting data into database\n"
     ]
    }
   ],
   "source": [
    "with FreeTextFileReader('data/free_text.txt') as free_text_read:\n",
    "    status = free_text_read.status\n",
    "\n"
   ]
  },
  {
   "cell_type": "code",
   "execution_count": 11,
   "metadata": {},
   "outputs": [
    {
     "name": "stderr",
     "output_type": "stream",
     "text": [
      "c:\\Users\\nasser\\.conda\\envs\\finall\\lib\\site-packages\\ipykernel_launcher.py:2: FutureWarning: Passing a negative integer is deprecated in version 1.0 and will not be supported in future version. Instead, use None to not limit the column width.\n",
      "  \n"
     ]
    },
    {
     "data": {
      "text/html": [
       "<div>\n",
       "<style scoped>\n",
       "    .dataframe tbody tr th:only-of-type {\n",
       "        vertical-align: middle;\n",
       "    }\n",
       "\n",
       "    .dataframe tbody tr th {\n",
       "        vertical-align: top;\n",
       "    }\n",
       "\n",
       "    .dataframe thead th {\n",
       "        text-align: right;\n",
       "    }\n",
       "</style>\n",
       "<table border=\"1\" class=\"dataframe\">\n",
       "  <thead>\n",
       "    <tr style=\"text-align: right;\">\n",
       "      <th></th>\n",
       "      <th>ProviderName</th>\n",
       "      <th>SpecialtyName</th>\n",
       "      <th>startHour</th>\n",
       "      <th>endHour</th>\n",
       "      <th>Cost</th>\n",
       "      <th>City</th>\n",
       "      <th>status</th>\n",
       "      <th>error</th>\n",
       "    </tr>\n",
       "  </thead>\n",
       "  <tbody>\n",
       "    <tr>\n",
       "      <th>11</th>\n",
       "      <td>WilliamDichtel</td>\n",
       "      <td>otolaryngologist ent</td>\n",
       "      <td>10</td>\n",
       "      <td>16</td>\n",
       "      <td>67</td>\n",
       "      <td>salem nbennett spring nfort lewi nglenvar nhang rock nkessler mill nmason cove</td>\n",
       "      <td>False</td>\n",
       "      <td>[42000] [Microsoft][ODBC SQL Server Driver][SQL Server]String or binary data would be truncated in table 'PotatoDataMartv1.dbo.LocationDim', column 'City'. Truncated value: 'salem nbennett spring nfort lewi nglenvar nhang ro'. (2628) (SQLExecDirectW); [42000] [Microsoft][ODBC SQL Server Driver][SQL Server]The statement has been terminated. (3621)</td>\n",
       "    </tr>\n",
       "    <tr>\n",
       "      <th>28</th>\n",
       "      <td>KathrynHartman</td>\n",
       "      <td>pediatr</td>\n",
       "      <td>10</td>\n",
       "      <td>15</td>\n",
       "      <td>52</td>\n",
       "      <td>overland park nmerriam noverland nprairi villag nprairi vlg nshawne mission nshawne msn</td>\n",
       "      <td>False</td>\n",
       "      <td>[42000] [Microsoft][ODBC SQL Server Driver][SQL Server]String or binary data would be truncated in table 'PotatoDataMartv1.dbo.LocationDim', column 'City'. Truncated value: 'overland park nmerriam noverland nprairi villag np'. (2628) (SQLExecDirectW); [42000] [Microsoft][ODBC SQL Server Driver][SQL Server]The statement has been terminated. (3621)</td>\n",
       "    </tr>\n",
       "    <tr>\n",
       "      <th>51</th>\n",
       "      <td>JeromeLipin</td>\n",
       "      <td>pediatr</td>\n",
       "      <td>9</td>\n",
       "      <td>14</td>\n",
       "      <td>33</td>\n",
       "      <td>bicentenni nbrigg nw hollywood nwest hollywood nlos angel</td>\n",
       "      <td>False</td>\n",
       "      <td>[42000] [Microsoft][ODBC SQL Server Driver][SQL Server]String or binary data would be truncated in table 'PotatoDataMartv1.dbo.LocationDim', column 'City'. Truncated value: 'bicentenni nbrigg nw hollywood nwest hollywood nlo'. (2628) (SQLExecDirectW); [42000] [Microsoft][ODBC SQL Server Driver][SQL Server]The statement has been terminated. (3621)</td>\n",
       "    </tr>\n",
       "    <tr>\n",
       "      <th>85</th>\n",
       "      <td>Amanda Ganem</td>\n",
       "      <td>cardiovascular diseas</td>\n",
       "      <td>8</td>\n",
       "      <td>16</td>\n",
       "      <td>21</td>\n",
       "      <td>west harrison neast white plain nw harrison nwestchest counti airport nwhite plain</td>\n",
       "      <td>False</td>\n",
       "      <td>[42000] [Microsoft][ODBC SQL Server Driver][SQL Server]String or binary data would be truncated in table 'PotatoDataMartv1.dbo.LocationDim', column 'City'. Truncated value: 'west harrison neast white plain nw harrison nwestc'. (2628) (SQLExecDirectW); [42000] [Microsoft][ODBC SQL Server Driver][SQL Server]The statement has been terminated. (3621)</td>\n",
       "    </tr>\n",
       "    <tr>\n",
       "      <th>91</th>\n",
       "      <td>JaniceBrenneman</td>\n",
       "      <td>hospit base physician radiolog</td>\n",
       "      <td>10</td>\n",
       "      <td>16</td>\n",
       "      <td>39</td>\n",
       "      <td>littleton nhghlnds ranch nhighland ranch nlone tree nlonetre</td>\n",
       "      <td>False</td>\n",
       "      <td>[42000] [Microsoft][ODBC SQL Server Driver][SQL Server]String or binary data would be truncated in table 'PotatoDataMartv1.dbo.LocationDim', column 'City'. Truncated value: 'littleton nhghlnds ranch nhighland ranch nlone tre'. (2628) (SQLExecDirectW); [42000] [Microsoft][ODBC SQL Server Driver][SQL Server]The statement has been terminated. (3621)</td>\n",
       "    </tr>\n",
       "  </tbody>\n",
       "</table>\n",
       "</div>"
      ],
      "text/plain": [
       "       ProviderName                   SpecialtyName startHour endHour Cost  \\\n",
       "11  WilliamDichtel   otolaryngologist ent            10        16      67    \n",
       "28  KathrynHartman   pediatr                         10        15      52    \n",
       "51  JeromeLipin      pediatr                         9         14      33    \n",
       "85  Amanda Ganem     cardiovascular diseas           8         16      21    \n",
       "91  JaniceBrenneman  hospit base physician radiolog  10        16      39    \n",
       "\n",
       "                                                                                       City  \\\n",
       "11  salem nbennett spring nfort lewi nglenvar nhang rock nkessler mill nmason cove            \n",
       "28  overland park nmerriam noverland nprairi villag nprairi vlg nshawne mission nshawne msn   \n",
       "51  bicentenni nbrigg nw hollywood nwest hollywood nlos angel                                 \n",
       "85  west harrison neast white plain nw harrison nwestchest counti airport nwhite plain        \n",
       "91  littleton nhghlnds ranch nhighland ranch nlone tree nlonetre                              \n",
       "\n",
       "    status  \\\n",
       "11  False    \n",
       "28  False    \n",
       "51  False    \n",
       "85  False    \n",
       "91  False    \n",
       "\n",
       "                                                                                                                                                                                                                                                                                                                                                           error  \n",
       "11  [42000] [Microsoft][ODBC SQL Server Driver][SQL Server]String or binary data would be truncated in table 'PotatoDataMartv1.dbo.LocationDim', column 'City'. Truncated value: 'salem nbennett spring nfort lewi nglenvar nhang ro'. (2628) (SQLExecDirectW); [42000] [Microsoft][ODBC SQL Server Driver][SQL Server]The statement has been terminated. (3621)  \n",
       "28  [42000] [Microsoft][ODBC SQL Server Driver][SQL Server]String or binary data would be truncated in table 'PotatoDataMartv1.dbo.LocationDim', column 'City'. Truncated value: 'overland park nmerriam noverland nprairi villag np'. (2628) (SQLExecDirectW); [42000] [Microsoft][ODBC SQL Server Driver][SQL Server]The statement has been terminated. (3621)  \n",
       "51  [42000] [Microsoft][ODBC SQL Server Driver][SQL Server]String or binary data would be truncated in table 'PotatoDataMartv1.dbo.LocationDim', column 'City'. Truncated value: 'bicentenni nbrigg nw hollywood nwest hollywood nlo'. (2628) (SQLExecDirectW); [42000] [Microsoft][ODBC SQL Server Driver][SQL Server]The statement has been terminated. (3621)  \n",
       "85  [42000] [Microsoft][ODBC SQL Server Driver][SQL Server]String or binary data would be truncated in table 'PotatoDataMartv1.dbo.LocationDim', column 'City'. Truncated value: 'west harrison neast white plain nw harrison nwestc'. (2628) (SQLExecDirectW); [42000] [Microsoft][ODBC SQL Server Driver][SQL Server]The statement has been terminated. (3621)  \n",
       "91  [42000] [Microsoft][ODBC SQL Server Driver][SQL Server]String or binary data would be truncated in table 'PotatoDataMartv1.dbo.LocationDim', column 'City'. Truncated value: 'littleton nhghlnds ranch nhighland ranch nlone tre'. (2628) (SQLExecDirectW); [42000] [Microsoft][ODBC SQL Server Driver][SQL Server]The statement has been terminated. (3621)  "
      ]
     },
     "execution_count": 11,
     "metadata": {},
     "output_type": "execute_result"
    }
   ],
   "source": [
    "# set the width of the columns in the display\n",
    "pd.set_option('display.max_colwidth', -1)\n",
    "status[status['status']==False]"
   ]
  },
  {
   "attachments": {},
   "cell_type": "markdown",
   "metadata": {},
   "source": [
    "# OLTP Database Source"
   ]
  },
  {
   "cell_type": "code",
   "execution_count": 12,
   "metadata": {},
   "outputs": [],
   "source": [
    "database = 'Potato'"
   ]
  },
  {
   "cell_type": "code",
   "execution_count": 13,
   "metadata": {},
   "outputs": [
    {
     "name": "stdout",
     "output_type": "stream",
     "text": [
      "Transforming csv file into DataFrame\n",
      "Inserting data into database...\n",
      "Finished inserting data into database\n",
      "Transforming csv file into DataFrame\n",
      "Inserting data into database...\n",
      "Finished inserting data into database\n",
      "Finished inserting data into database\n"
     ]
    }
   ],
   "source": [
    "status = []\n",
    "with OLTPReader(database) as reader:\n",
    "    status = reader.dfs"
   ]
  },
  {
   "cell_type": "code",
   "execution_count": 14,
   "metadata": {},
   "outputs": [
    {
     "data": {
      "text/plain": [
       "2"
      ]
     },
     "execution_count": 14,
     "metadata": {},
     "output_type": "execute_result"
    }
   ],
   "source": [
    "len(status)"
   ]
  },
  {
   "cell_type": "code",
   "execution_count": 17,
   "metadata": {},
   "outputs": [
    {
     "data": {
      "text/html": [
       "<div>\n",
       "<style scoped>\n",
       "    .dataframe tbody tr th:only-of-type {\n",
       "        vertical-align: middle;\n",
       "    }\n",
       "\n",
       "    .dataframe tbody tr th {\n",
       "        vertical-align: top;\n",
       "    }\n",
       "\n",
       "    .dataframe thead th {\n",
       "        text-align: right;\n",
       "    }\n",
       "</style>\n",
       "<table border=\"1\" class=\"dataframe\">\n",
       "  <thead>\n",
       "    <tr style=\"text-align: right;\">\n",
       "      <th></th>\n",
       "      <th>SpecialtyName</th>\n",
       "      <th>City</th>\n",
       "      <th>Cost</th>\n",
       "      <th>startHour</th>\n",
       "      <th>endHour</th>\n",
       "      <th>ProviderName</th>\n",
       "      <th>status</th>\n",
       "      <th>error</th>\n",
       "    </tr>\n",
       "  </thead>\n",
       "  <tbody>\n",
       "    <tr>\n",
       "      <th>0</th>\n",
       "      <td>denist</td>\n",
       "      <td>jenin</td>\n",
       "      <td>10</td>\n",
       "      <td>10</td>\n",
       "      <td>33</td>\n",
       "      <td>Mohammad 1</td>\n",
       "      <td>True</td>\n",
       "      <td></td>\n",
       "    </tr>\n",
       "  </tbody>\n",
       "</table>\n",
       "</div>"
      ],
      "text/plain": [
       "  SpecialtyName   City  Cost  startHour  endHour ProviderName  status error\n",
       "0  denist        jenin  10    10         33       Mohammad 1   True        "
      ]
     },
     "execution_count": 17,
     "metadata": {},
     "output_type": "execute_result"
    }
   ],
   "source": [
    "status[0][1].head()"
   ]
  }
 ],
 "metadata": {
  "kernelspec": {
   "display_name": "finall",
   "language": "python",
   "name": "python3"
  },
  "language_info": {
   "codemirror_mode": {
    "name": "ipython",
    "version": 3
   },
   "file_extension": ".py",
   "mimetype": "text/x-python",
   "name": "python",
   "nbconvert_exporter": "python",
   "pygments_lexer": "ipython3",
   "version": "3.7.12"
  },
  "orig_nbformat": 4
 },
 "nbformat": 4,
 "nbformat_minor": 2
}
