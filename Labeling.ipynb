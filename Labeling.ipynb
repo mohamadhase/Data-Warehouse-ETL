{
 "cells": [
  {
   "cell_type": "code",
   "execution_count": 1,
   "metadata": {},
   "outputs": [],
   "source": [
    "import pandas as pd\n",
    "import os"
   ]
  },
  {
   "cell_type": "code",
   "execution_count": 2,
   "metadata": {},
   "outputs": [],
   "source": [
    "data_path = 'dataFiles'\n",
    "label_path = 'dataFiles/indexes'"
   ]
  },
  {
   "cell_type": "code",
   "execution_count": 3,
   "metadata": {},
   "outputs": [],
   "source": [
    "import os\n",
    "import pandas as pd\n",
    "\n",
    "# Define the paths to the dataFiles and Indexes folders\n",
    "dataFiles_path = \"dataFiles\"\n",
    "indexes_path = \"dataFiles/indexes\"\n",
    "\n",
    "\n"
   ]
  },
  {
   "cell_type": "code",
   "execution_count": 4,
   "metadata": {},
   "outputs": [],
   "source": [
    "files_inside_dataFiles = os.listdir(dataFiles_path)\n"
   ]
  },
  {
   "cell_type": "code",
   "execution_count": 5,
   "metadata": {},
   "outputs": [],
   "source": [
    "# remove the last item in files_inside_dataFiles if it is not a file        \n",
    "files_inside_dataFiles = files_inside_dataFiles[:-1]\n",
    "import re"
   ]
  },
  {
   "cell_type": "code",
   "execution_count": 6,
   "metadata": {},
   "outputs": [
    {
     "name": "stdout",
     "output_type": "stream",
     "text": [
      "Remaining files:  1000\n",
      "Remaining files:  900\n",
      "Remaining files:  800\n",
      "Remaining files:  700\n",
      "Remaining files:  600\n",
      "Remaining files:  500\n",
      "Remaining files:  400\n",
      "Remaining files:  300\n",
      "Remaining files:  200\n",
      "Remaining files:  100\n"
     ]
    }
   ],
   "source": [
    "df = pd.DataFrame(\n",
    "    columns=[\n",
    "        \"text\",\n",
    "        \"name\",\n",
    "        \"city\",\n",
    "        \"Shour\",\n",
    "        \"ehour\",\n",
    "        \"speciality\",\n",
    "        \"cost\"\n",
    "    ]\n",
    ")\n",
    "for data_file in files_inside_dataFiles:\n",
    "    all_text = open(os.path.join(dataFiles_path, data_file), \"r\").read()\n",
    "    data_text = all_text.split(\"\\n\")\n",
    "    # remove the first line\n",
    "    data_text = data_text[1:]\n",
    "    # remove the last line if it is empty\n",
    "    if data_text[-1] == \"\":\n",
    "        data_text = data_text[:-1]\n",
    "    \n",
    "    label_txt = open(os.path.join(label_path, data_file.split(\".\")[0]+\"_indexes.txt\"), \"r\").read()\n",
    "    label_txt = label_txt.split(\"\\n\")\n",
    "    # remove the last line if it is empty\n",
    "    if label_txt[-1] == \"\":\n",
    "        label_txt = label_txt[:-1]\n",
    "    label_txt = ['\\n'.join(label_txt[i:i+6]) for i in range(0, len(label_txt), 6)]\n",
    "    # create new row of the dataframe to insert the data and push it to the dataframe\n",
    "\n",
    "    for i in range(len(data_text)):\n",
    "\n",
    "        name_start_index = int(label_txt[i].split(\"\\n\")[0].split(\":\")[0].split(\"-\")[0])\n",
    "        name_end_index = int(label_txt[i].split(\"\\n\")[0].split(\":\")[0].split(\"-\")[1])\n",
    "        city_start_index = int(label_txt[i].split(\"\\n\")[1].split(\":\")[0].split(\"-\")[0])\n",
    "        city_end_index = int(label_txt[i].split(\"\\n\")[1].split(\":\")[0].split(\"-\")[1])\n",
    "        sHour_start_index = int(label_txt[i].split(\"\\n\")[2].split(\":\")[0].split(\"-\")[0])\n",
    "        sHour_end_index = int(label_txt[i].split(\"\\n\")[2].split(\":\")[0].split(\"-\")[1])\n",
    "        eHour_start_index = int(label_txt[i].split(\"\\n\")[3].split(\":\")[0].split(\"-\")[0])\n",
    "        eHour_end_index = int(label_txt[i].split(\"\\n\")[3].split(\":\")[0].split(\"-\")[1])\n",
    "        cost_start_index = int(label_txt[i].split(\"\\n\")[4].split(\":\")[0].split(\"-\")[0])\n",
    "        cost_end_index = int(label_txt[i].split(\"\\n\")[4].split(\":\")[0].split(\"-\")[1])\n",
    "        Speciality_start_index = int(label_txt[i].split(\"\\n\")[5].split(\":\")[0].split(\"-\")[0])\n",
    "        Speciality_end_index = int(label_txt[i].split(\"\\n\")[5].split(\":\")[0].split(\"-\")[1])\n",
    "        provider_name = all_text[name_start_index:name_end_index].strip()\n",
    "        provider_city = all_text[city_start_index:city_end_index]\n",
    "        provider_sHour = all_text[sHour_start_index:sHour_end_index]\n",
    "        provider_eHour = all_text[eHour_start_index:eHour_end_index]\n",
    "        provider_cost = all_text[cost_start_index:cost_end_index]\n",
    "        provider_speciality = all_text[Speciality_start_index:Speciality_end_index]\n",
    "        # replace any non-eng character with space\n",
    "        data_text[i] = re.sub(r'[^a-zA-Z0-9\\s]', ' ', data_text[i])\n",
    "        # remove any extra space\n",
    "        data_text[i] = re.sub(r'\\s+', ' ', data_text[i])\n",
    "        provider_name = re.sub(r'\\s+', ' ', provider_name)\n",
    "        provider_name = re.sub(r'[^a-zA-Z0-9\\s]', ' ', provider_name)\n",
    "        provider_city = re.sub(r'\\s+', ' ', provider_city)\n",
    "        provider_city = re.sub(r'[^a-zA-Z0-9\\s]', ' ', provider_city)\n",
    "        provider_sHour = re.sub(r'\\s+', ' ', provider_sHour)\n",
    "        provider_sHour = re.sub(r'[^a-zA-Z0-9\\s]', ' ', provider_sHour)\n",
    "        provider_eHour = re.sub(r'\\s+', ' ', provider_eHour)\n",
    "        provider_eHour = re.sub(r'[^a-zA-Z0-9\\s]', ' ', provider_eHour)\n",
    "        provider_cost = re.sub(r'\\s+', ' ', provider_cost)\n",
    "        provider_cost = re.sub(r'[^a-zA-Z0-9\\s]', ' ', provider_cost)\n",
    "        provider_speciality = re.sub(r'\\s+', ' ', provider_speciality)\n",
    "        provider_speciality = re.sub(r'[^a-zA-Z0-9\\s]', ' ', provider_speciality)\n",
    "            \n",
    "        df = df.append({\n",
    "            \"text\": data_text[i],\n",
    "            \"name\": provider_name.split(\" \"),\n",
    "            \"city\": provider_city.split(\" \"),\n",
    "            \"Shour\": provider_sHour.split(\" \"),\n",
    "            \"ehour\": provider_eHour.split(\" \"),\n",
    "            \"speciality\": provider_speciality.split(\" \"),\n",
    "            \"cost\": provider_cost.split(\" \")\n",
    "        }, ignore_index=True)\n",
    "    # print the remaining files every 100 files\n",
    "    if files_inside_dataFiles.index(data_file) % 100 == 0:   \n",
    "        print(\"Remaining files: \", len(files_inside_dataFiles) - files_inside_dataFiles.index(data_file))\n",
    "                \n",
    "\n",
    "            \n",
    "                \n",
    "\n"
   ]
  },
  {
   "cell_type": "code",
   "execution_count": 14,
   "metadata": {},
   "outputs": [
    {
     "name": "stderr",
     "output_type": "stream",
     "text": [
      "c:\\Users\\nasser\\.conda\\envs\\finall\\lib\\site-packages\\ipykernel_launcher.py:1: FutureWarning: Passing a negative integer is deprecated in version 1.0 and will not be supported in future version. Instead, use None to not limit the column width.\n",
      "  \"\"\"Entry point for launching an IPython kernel.\n"
     ]
    },
    {
     "data": {
      "text/html": [
       "<div>\n",
       "<style scoped>\n",
       "    .dataframe tbody tr th:only-of-type {\n",
       "        vertical-align: middle;\n",
       "    }\n",
       "\n",
       "    .dataframe tbody tr th {\n",
       "        vertical-align: top;\n",
       "    }\n",
       "\n",
       "    .dataframe thead th {\n",
       "        text-align: right;\n",
       "    }\n",
       "</style>\n",
       "<table border=\"1\" class=\"dataframe\">\n",
       "  <thead>\n",
       "    <tr style=\"text-align: right;\">\n",
       "      <th></th>\n",
       "      <th>text</th>\n",
       "      <th>name</th>\n",
       "      <th>city</th>\n",
       "      <th>Shour</th>\n",
       "      <th>ehour</th>\n",
       "      <th>speciality</th>\n",
       "      <th>cost</th>\n",
       "    </tr>\n",
       "  </thead>\n",
       "  <tbody>\n",
       "    <tr>\n",
       "      <th>86223</th>\n",
       "      <td>BROOKLYN has doctor RonaldReese his speciality is Diagnostic Radiology his start working time is 9 each visit costs 62 and he ends his working hours at 16</td>\n",
       "      <td>[RonaldReese]</td>\n",
       "      <td>[BROOKLYN]</td>\n",
       "      <td>[9]</td>\n",
       "      <td>[16]</td>\n",
       "      <td>[Diagnostic, Radiology]</td>\n",
       "      <td>[62]</td>\n",
       "    </tr>\n",
       "  </tbody>\n",
       "</table>\n",
       "</div>"
      ],
      "text/plain": [
       "                                                                                                                                                             text  \\\n",
       "86223  BROOKLYN has doctor RonaldReese his speciality is Diagnostic Radiology his start working time is 9 each visit costs 62 and he ends his working hours at 16   \n",
       "\n",
       "                name        city Shour ehour               speciality  cost  \n",
       "86223  [RonaldReese]  [BROOKLYN]  [9]   [16]  [Diagnostic, Radiology]  [62]  "
      ]
     },
     "execution_count": 14,
     "metadata": {},
     "output_type": "execute_result"
    }
   ],
   "source": [
    "pd.set_option('display.max_colwidth', -1)\n",
    "# get the rows from 10  to 20\n",
    "df.sample(1)"
   ]
  },
  {
   "cell_type": "code",
   "execution_count": 21,
   "metadata": {},
   "outputs": [],
   "source": [
    "def generate_label_str(row):\n",
    "    token_str = \"\"\n",
    "    splited_str = row['text'].split(\" \")\n",
    "    for word in splited_str:\n",
    "        if word in row['name']:\n",
    "            token_str += \"B-Name \" if word == row['name'][0] else \"I-Name \"\n",
    "        elif word in row['city']:\n",
    "            token_str += \"B-City \" if word == row['city'][0] else \"I-City \"\n",
    "        elif word in row['Shour']:\n",
    "            token_str += \"B-Shour \" if word == row['Shour'][0] else \"I-Shour \"\n",
    "        elif word in row['ehour']:\n",
    "            token_str += \"B-Ehour \" if word == row['ehour'][0] else \"I-Ehour \"\n",
    "        elif word in row['speciality']:\n",
    "            if word == row['speciality'][0]:\n",
    "                token_str += \"B-Speciality \"\n",
    "            else:\n",
    "                token_str += \"I-Speciality \"\n",
    "        elif word in row['cost']:\n",
    "            token_str += \"B-Cost \" if word == row['cost'][0] else \"I-Cost \"\n",
    "        else:\n",
    "            token_str += \"O \"\n",
    "    return token_str"
   ]
  },
  {
   "cell_type": "code",
   "execution_count": 22,
   "metadata": {},
   "outputs": [],
   "source": [
    "df['label'] = df.apply(generate_label_str, axis=1)"
   ]
  },
  {
   "cell_type": "code",
   "execution_count": 27,
   "metadata": {},
   "outputs": [
    {
     "data": {
      "text/html": [
       "<div>\n",
       "<style scoped>\n",
       "    .dataframe tbody tr th:only-of-type {\n",
       "        vertical-align: middle;\n",
       "    }\n",
       "\n",
       "    .dataframe tbody tr th {\n",
       "        vertical-align: top;\n",
       "    }\n",
       "\n",
       "    .dataframe thead th {\n",
       "        text-align: right;\n",
       "    }\n",
       "</style>\n",
       "<table border=\"1\" class=\"dataframe\">\n",
       "  <thead>\n",
       "    <tr style=\"text-align: right;\">\n",
       "      <th></th>\n",
       "      <th>text</th>\n",
       "      <th>name</th>\n",
       "      <th>city</th>\n",
       "      <th>Shour</th>\n",
       "      <th>ehour</th>\n",
       "      <th>speciality</th>\n",
       "      <th>cost</th>\n",
       "      <th>label</th>\n",
       "    </tr>\n",
       "  </thead>\n",
       "  <tbody>\n",
       "    <tr>\n",
       "      <th>57904</th>\n",
       "      <td>YungLee and he has fees of 45 he is special in Specialist Radiology Diagnostic his working hours are 8 15 he do his job in BRONX</td>\n",
       "      <td>[YungLee]</td>\n",
       "      <td>[BRONX]</td>\n",
       "      <td>[8]</td>\n",
       "      <td>[15]</td>\n",
       "      <td>[Specialist, Radiology, Diagnostic]</td>\n",
       "      <td>[45]</td>\n",
       "      <td>B-Name O O O O O B-Cost O O O O B-Speciality I-Speciality I-Speciality O O O O B-Shour B-Ehour O O O O O B-City</td>\n",
       "    </tr>\n",
       "  </tbody>\n",
       "</table>\n",
       "</div>"
      ],
      "text/plain": [
       "                                                                                                                                   text  \\\n",
       "57904  YungLee and he has fees of 45 he is special in Specialist Radiology Diagnostic his working hours are 8 15 he do his job in BRONX   \n",
       "\n",
       "            name     city Shour ehour                           speciality  \\\n",
       "57904  [YungLee]  [BRONX]  [8]   [15]  [Specialist, Radiology, Diagnostic]   \n",
       "\n",
       "       cost  \\\n",
       "57904  [45]   \n",
       "\n",
       "                                                                                                                  label  \n",
       "57904  B-Name O O O O O B-Cost O O O O B-Speciality I-Speciality I-Speciality O O O O B-Shour B-Ehour O O O O O B-City   "
      ]
     },
     "execution_count": 27,
     "metadata": {},
     "output_type": "execute_result"
    }
   ],
   "source": [
    "df.sample(1)"
   ]
  },
  {
   "cell_type": "code",
   "execution_count": 12,
   "metadata": {},
   "outputs": [],
   "source": [
    "# df[['text','label']].sample(1)"
   ]
  },
  {
   "cell_type": "code",
   "execution_count": null,
   "metadata": {},
   "outputs": [],
   "source": [
    "df.to_csv(\"data.csv\", index=False)"
   ]
  }
 ],
 "metadata": {
  "kernelspec": {
   "display_name": "finall",
   "language": "python",
   "name": "python3"
  },
  "language_info": {
   "codemirror_mode": {
    "name": "ipython",
    "version": 3
   },
   "file_extension": ".py",
   "mimetype": "text/x-python",
   "name": "python",
   "nbconvert_exporter": "python",
   "pygments_lexer": "ipython3",
   "version": "3.7.12"
  },
  "orig_nbformat": 4
 },
 "nbformat": 4,
 "nbformat_minor": 2
}
